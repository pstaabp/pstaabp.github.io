{
 "cells": [
  {
   "cell_type": "code",
   "execution_count": 29,
   "metadata": {},
   "outputs": [],
   "source": [
    "using Query, DataFrames, Dates"
   ]
  },
  {
   "cell_type": "code",
   "execution_count": 104,
   "metadata": {},
   "outputs": [
    {
     "data": {
      "text/html": [
       "<table class=\"data-frame\"><thead><tr><th></th><th>markdown</th><th>html</th><th>mdtime</th><th>htmltime</th><th>pd</th></tr><tr><th></th><th>String</th><th>String</th><th>DateTime</th><th>DateTime</th><th>String</th></tr></thead><tbody><p>1 rows × 5 columns</p><tr><th>1</th><td>ch-05.md</td><td>ch-05.html</td><td>2021-01-03T22:44:10.556</td><td>2020-12-29T18:22:54.349</td><td>pandoc ch-05.md -s --mathjax -o ch-05.html</td></tr></tbody></table>"
      ],
      "text/latex": [
       "\\begin{tabular}{r|ccccc}\n",
       "\t& markdown & html & mdtime & htmltime & pd\\\\\n",
       "\t\\hline\n",
       "\t& String & String & DateTime & DateTime & String\\\\\n",
       "\t\\hline\n",
       "\t1 & ch-05.md & ch-05.html & 2021-01-03T22:44:10.556 & 2020-12-29T18:22:54.349 & pandoc ch-05.md -s --mathjax -o ch-05.html \\\\\n",
       "\\end{tabular}\n"
      ],
      "text/plain": [
       "\u001b[1m1×5 DataFrame\u001b[0m\n",
       "\u001b[1m Row \u001b[0m│\u001b[1m markdown \u001b[0m\u001b[1m html       \u001b[0m\u001b[1m mdtime                  \u001b[0m\u001b[1m htmltime                \u001b[0m\u001b[1m\u001b[0m ⋯\n",
       "\u001b[1m     \u001b[0m│\u001b[90m String   \u001b[0m\u001b[90m String     \u001b[0m\u001b[90m DateTime                \u001b[0m\u001b[90m DateTime                \u001b[0m\u001b[90m\u001b[0m ⋯\n",
       "─────┼──────────────────────────────────────────────────────────────────────────\n",
       "   1 │ ch-05.md  ch-05.html  2021-01-03T22:44:10.556  2020-12-29T18:22:54.349  ⋯\n",
       "\u001b[31m                                                                1 column omitted\u001b[0m"
      ]
     },
     "execution_count": 104,
     "metadata": {},
     "output_type": "execute_result"
    }
   ],
   "source": [
    "\n",
    "files = DataFrame(markdown = readdir() |> \n",
    "    @filter(endswith(_,\".md\")) |> collect) |>\n",
    "    @mutate(html = replace(_.markdown, \".md\" => \".html\")) |> \n",
    "    @mutate(mdtime = Dates.unix2datetime(mtime(_.markdown)),htmltime=Dates.unix2datetime(mtime(_.html))) |>\n",
    "    @filter(_.mdtime>_.htmltime) |>\n",
    "    @mutate(pd = \"pandoc $(_.markdown) -s --mathjax -o $(_.html)\") |>\n",
    "    DataFrame"
   ]
  },
  {
   "cell_type": "code",
   "execution_count": 105,
   "metadata": {},
   "outputs": [
    {
     "name": "stdout",
     "output_type": "stream",
     "text": [
      "cmd = \"pandoc ch-05.md -s --mathjax -o ch-05.html\"\n"
     ]
    }
   ],
   "source": [
    "for cmd in files[!,:pd]\n",
    "    @show cmd\n",
    "    run(`sh -c $cmd`)\n",
    "end"
   ]
  },
  {
   "cell_type": "code",
   "execution_count": 74,
   "metadata": {},
   "outputs": [
    {
     "ename": "LoadError",
     "evalue": "LoadError: MethodError: no method matching shell_parse(::Expr; special=\"#{}()[]<>|&*?~;\")\nClosest candidates are:\n  shell_parse(!Matched::AbstractString) at shell.jl:18 got unsupported keyword argument \"special\"\n  shell_parse(!Matched::AbstractString, !Matched::Bool; special) at shell.jl:18\nin expression starting at In[74]:1",
     "output_type": "error",
     "traceback": [
      "LoadError: MethodError: no method matching shell_parse(::Expr; special=\"#{}()[]<>|&*?~;\")\nClosest candidates are:\n  shell_parse(!Matched::AbstractString) at shell.jl:18 got unsupported keyword argument \"special\"\n  shell_parse(!Matched::AbstractString, !Matched::Bool; special) at shell.jl:18\nin expression starting at In[74]:1",
      "",
      "Stacktrace:",
      " [1] @cmd(::LineNumberNode, ::Module, ::Any) at ./cmd.jl:389",
      " [2] include_string(::Function, ::Module, ::String, ::String) at ./loading.jl:1091"
     ]
    }
   ],
   "source": [
    "@cmd string(files[1,:pd])"
   ]
  },
  {
   "cell_type": "code",
   "execution_count": 73,
   "metadata": {},
   "outputs": [
    {
     "data": {
      "text/plain": [
       "`\u001b[4mpandoc\u001b[24m \u001b[4mch-02.md\u001b[24m \u001b[4m-s\u001b[24m \u001b[4m--mathjax\u001b[24m \u001b[4m-o\u001b[24m \u001b[4mch-02.html\u001b[24m`"
      ]
     },
     "execution_count": 73,
     "metadata": {},
     "output_type": "execute_result"
    }
   ],
   "source": [
    "c = @cmd \"pandoc ch-02.md -s --mathjax -o ch-02.html\""
   ]
  },
  {
   "cell_type": "code",
   "execution_count": 69,
   "metadata": {},
   "outputs": [
    {
     "name": "stderr",
     "output_type": "stream",
     "text": [
      "[WARNING] This document format requires a nonempty <title> element.\n",
      "  Defaulting to 'ch-02' as the title.\n",
      "  To specify a title, use 'title' in metadata or --metadata title=\"...\".\n"
     ]
    },
    {
     "data": {
      "text/plain": [
       "Process(`\u001b[4mpandoc\u001b[24m \u001b[4mch-02.md\u001b[24m \u001b[4m-s\u001b[24m \u001b[4m--mathjax\u001b[24m \u001b[4m-o\u001b[24m \u001b[4mch-02.html\u001b[24m`, ProcessExited(0))"
      ]
     },
     "execution_count": 69,
     "metadata": {},
     "output_type": "execute_result"
    }
   ],
   "source": [
    "run(c)"
   ]
  },
  {
   "cell_type": "code",
   "execution_count": 43,
   "metadata": {},
   "outputs": [
    {
     "data": {
      "text/latex": [
       "\\begin{verbatim}\n",
       "@cmd str\n",
       "\\end{verbatim}\n",
       "Similar to \\texttt{cmd}, generate a \\texttt{Cmd} from the \\texttt{str} string which represents the shell command(s) to be executed. The \\href{@ref}{\\texttt{Cmd}} object can be run as a process and can outlive the spawning julia process (see \\texttt{Cmd} for more).\n",
       "\n",
       "\\section{Examples}\n",
       "\\begin{verbatim}\n",
       "julia> cm = @cmd \" echo 1 \"\n",
       "`echo 1`\n",
       "\n",
       "julia> run(cm)\n",
       "1\n",
       "Process(`echo 1`, ProcessExited(0))\n",
       "\\end{verbatim}\n"
      ],
      "text/markdown": [
       "```\n",
       "@cmd str\n",
       "```\n",
       "\n",
       "Similar to `cmd`, generate a `Cmd` from the `str` string which represents the shell command(s) to be executed. The [`Cmd`](@ref) object can be run as a process and can outlive the spawning julia process (see `Cmd` for more).\n",
       "\n",
       "# Examples\n",
       "\n",
       "```jldoctest\n",
       "julia> cm = @cmd \" echo 1 \"\n",
       "`echo 1`\n",
       "\n",
       "julia> run(cm)\n",
       "1\n",
       "Process(`echo 1`, ProcessExited(0))\n",
       "```\n"
      ],
      "text/plain": [
       "\u001b[36m  @cmd str\u001b[39m\n",
       "\n",
       "  Similar to \u001b[36mcmd\u001b[39m, generate a \u001b[36mCmd\u001b[39m from the \u001b[36mstr\u001b[39m string which represents the\n",
       "  shell command(s) to be executed. The \u001b[36mCmd\u001b[39m object can be run as a process and\n",
       "  can outlive the spawning julia process (see \u001b[36mCmd\u001b[39m for more).\n",
       "\n",
       "\u001b[1m  Examples\u001b[22m\n",
       "\u001b[1m  ≡≡≡≡≡≡≡≡≡≡\u001b[22m\n",
       "\n",
       "\u001b[36m  julia> cm = @cmd \" echo 1 \"\u001b[39m\n",
       "\u001b[36m  `echo 1`\u001b[39m\n",
       "\u001b[36m  \u001b[39m\n",
       "\u001b[36m  julia> run(cm)\u001b[39m\n",
       "\u001b[36m  1\u001b[39m\n",
       "\u001b[36m  Process(`echo 1`, ProcessExited(0))\u001b[39m"
      ]
     },
     "execution_count": 43,
     "metadata": {},
     "output_type": "execute_result"
    }
   ],
   "source": [
    "?@cmd"
   ]
  },
  {
   "cell_type": "code",
   "execution_count": null,
   "metadata": {},
   "outputs": [],
   "source": []
  }
 ],
 "metadata": {
  "kernelspec": {
   "display_name": "Julia 1.5.3",
   "language": "julia",
   "name": "julia-1.5"
  },
  "language_info": {
   "file_extension": ".jl",
   "mimetype": "application/julia",
   "name": "julia",
   "version": "1.5.3"
  }
 },
 "nbformat": 4,
 "nbformat_minor": 4
}
